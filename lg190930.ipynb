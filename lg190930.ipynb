{
  "nbformat": 4,
  "nbformat_minor": 0,
  "metadata": {
    "colab": {
      "name": "lg190930.ipynb",
      "provenance": [],
      "collapsed_sections": [],
      "include_colab_link": true
    },
    "kernelspec": {
      "name": "python3",
      "display_name": "Python 3"
    }
  },
  "cells": [
    {
      "cell_type": "markdown",
      "metadata": {
        "id": "view-in-github",
        "colab_type": "text"
      },
      "source": [
        "<a href=\"https://colab.research.google.com/github/StillWork/LG-190910/blob/master/lg190930.ipynb\" target=\"_parent\"><img src=\"https://colab.research.google.com/assets/colab-badge.svg\" alt=\"Open In Colab\"/></a>"
      ]
    },
    {
      "cell_type": "code",
      "metadata": {
        "id": "IBGtzD2qg-pB",
        "colab_type": "code",
        "colab": {
          "base_uri": "https://localhost:8080/",
          "height": 521
        },
        "collapsed": true,
        "outputId": "827a94a4-af2a-4a78-9794-abc82deb2b1f"
      },
      "source": [
        "import numpy as np\n",
        "import pandas as pd\n",
        "import matplotlib.pyplot as plt\n",
        "n = 200\n",
        "x1 = np.random.randn(n)*3 + 170\n",
        "y1 = x1*1.3 - 140  + np.random.randn(n)*2\n",
        "x2 = np.random.randn(n)*2 + 160\n",
        "y2 = x2*1.1 - 115  + np.random.randn(n)*2\n",
        "plt.hist(x1, bins=10)\n",
        "plt.hist(y1, bins=10)\n",
        "plt.hist(x2, bins=10)\n",
        "plt.hist(y2, bins=10); plt.show()\n",
        "plt.scatter(x1,y1)\n",
        "plt.scatter(x2,y2); plt.show()\n",
        "x = np.hstack((x1, x2))\n",
        "y = np.hstack((y1, y2))\n",
        "sex = n*[1] + n*[0]\n",
        "dict = {'height':x, 'weight':y}\n",
        "df = pd.DataFrame(dict);df\n",
        "df['sex'] = sex"
      ],
      "execution_count": 120,
      "outputs": [
        {
          "output_type": "display_data",
          "data": {
            "image/png": "[encoded data removed]",
            "text/plain": [
              "<Figure size 432x288 with 1 Axes>"
            ]
          },
          "metadata": {
            "tags": []
          }
        },
        {
          "output_type": "display_data",
          "data": {
            "image/png": "[encoded data removed]",
            "text/plain": [
              "<Figure size 432x288 with 1 Axes>"
            ]
          },
          "metadata": {
            "tags": []
          }
        }
      ]
    },
    {
      "cell_type": "code",
      "metadata": {
        "id": "2XReukGf_Z6B",
        "colab_type": "code",
        "colab": {},
        "collapsed": true
      },
      "source": [
        "x = df[['height', 'sex']]\n",
        "# x = df['height']\n",
        "y = df['weight']"
      ],
      "execution_count": 0,
      "outputs": []
    },
    {
      "cell_type": "code",
      "metadata": {
        "id": "Is7iwqoh_18l",
        "colab_type": "code",
        "colab": {
          "base_uri": "https://localhost:8080/",
          "height": 36
        },
        "outputId": "66806823-0507-417a-bc15-9a91f61fd3bb"
      },
      "source": [
        "from sklearn.model_selection import train_test_split\n",
        "x_train, x_test, y_train, y_test = train_test_split(x,y)\n",
        "x_train.shape,x_test.shape, y_train.shape, y_test.shape"
      ],
      "execution_count": 126,
      "outputs": [
        {
          "output_type": "execute_result",
          "data": {
            "text/plain": [
              "((300, 2), (100, 2), (300,), (100,))"
            ]
          },
          "metadata": {
            "tags": []
          },
          "execution_count": 126
        }
      ]
    },
    {
      "cell_type": "code",
      "metadata": {
        "id": "p3HIf0d-kQRD",
        "colab_type": "code",
        "colab": {
          "base_uri": "https://localhost:8080/",
          "height": 36
        },
        "outputId": "5ced067e-4397-4da6-e181-8a5cffbaf75a"
      },
      "source": [
        "from sklearn.linear_model import LinearRegression\n",
        "model =  LinearRegression()\n",
        "model.fit(x_train, y_train)\n",
        "model.score(x_test, y_test)\n"
      ],
      "execution_count": 128,
      "outputs": [
        {
          "output_type": "execute_result",
          "data": {
            "text/plain": [
              "0.9668921808966738"
            ]
          },
          "metadata": {
            "tags": []
          },
          "execution_count": 128
        }
      ]
    },
    {
      "cell_type": "code",
      "metadata": {
        "id": "3GbvuGm-A0OY",
        "colab_type": "code",
        "colab": {}
      },
      "source": [
        "\n",
        "# a, b = model.coef_ , model.intercept_\n",
        "plt.scatter(x,y)\n",
        "xx = np.linspace(160, 180, 10)\n",
        "yy = a*xx + b\n",
        "plt.plot(xx,yy, c='r')"
      ],
      "execution_count": 0,
      "outputs": []
    },
    {
      "cell_type": "code",
      "metadata": {
        "id": "_dj6ftQXlwgt",
        "colab_type": "code",
        "colab": {
          "base_uri": "https://localhost:8080/",
          "height": 36
        },
        "outputId": "d6d4c175-539e-4982-fd9e-c064ab44914b"
      },
      "source": [
        "sample= [[180], [170], [160], [130], [180]]\n",
        "model.predict(np.array(sample))"
      ],
      "execution_count": 51,
      "outputs": [
        {
          "output_type": "execute_result",
          "data": {
            "text/plain": [
              "array([79.45579764, 67.4921184 , 55.52843915, 19.63740141, 79.45579764])"
            ]
          },
          "metadata": {
            "tags": []
          },
          "execution_count": 51
        }
      ]
    },
    {
      "cell_type": "code",
      "metadata": {
        "id": "-fHuzzo6pgMd",
        "colab_type": "code",
        "colab": {
          "base_uri": "https://localhost:8080/",
          "height": 204
        },
        "outputId": "56e1b7da-2888-4796-9eff-763faa9e8397"
      },
      "source": [
        "z = np.arange(120);z"
      ],
      "execution_count": 48,
      "outputs": [
        {
          "output_type": "execute_result",
          "data": {
            "text/plain": [
              "array([  0,   1,   2,   3,   4,   5,   6,   7,   8,   9,  10,  11,  12,\n",
              "        13,  14,  15,  16,  17,  18,  19,  20,  21,  22,  23,  24,  25,\n",
              "        26,  27,  28,  29,  30,  31,  32,  33,  34,  35,  36,  37,  38,\n",
              "        39,  40,  41,  42,  43,  44,  45,  46,  47,  48,  49,  50,  51,\n",
              "        52,  53,  54,  55,  56,  57,  58,  59,  60,  61,  62,  63,  64,\n",
              "        65,  66,  67,  68,  69,  70,  71,  72,  73,  74,  75,  76,  77,\n",
              "        78,  79,  80,  81,  82,  83,  84,  85,  86,  87,  88,  89,  90,\n",
              "        91,  92,  93,  94,  95,  96,  97,  98,  99, 100, 101, 102, 103,\n",
              "       104, 105, 106, 107, 108, 109, 110, 111, 112, 113, 114, 115, 116,\n",
              "       117, 118, 119])"
            ]
          },
          "metadata": {
            "tags": []
          },
          "execution_count": 48
        }
      ]
    },
    {
      "cell_type": "code",
      "metadata": {
        "id": "rUtFxHRopzcn",
        "colab_type": "code",
        "colab": {
          "base_uri": "https://localhost:8080/",
          "height": 1000
        },
        "outputId": "a18d17a9-1661-4188-ee24-8ed2bc23ab43"
      },
      "source": [
        "z.reshape(-1,1)"
      ],
      "execution_count": 50,
      "outputs": [
        {
          "output_type": "execute_result",
          "data": {
            "text/plain": [
              "array([[  0],\n",
              "       [  1],\n",
              "       [  2],\n",
              "       [  3],\n",
              "       [  4],\n",
              "       [  5],\n",
              "       [  6],\n",
              "       [  7],\n",
              "       [  8],\n",
              "       [  9],\n",
              "       [ 10],\n",
              "       [ 11],\n",
              "       [ 12],\n",
              "       [ 13],\n",
              "       [ 14],\n",
              "       [ 15],\n",
              "       [ 16],\n",
              "       [ 17],\n",
              "       [ 18],\n",
              "       [ 19],\n",
              "       [ 20],\n",
              "       [ 21],\n",
              "       [ 22],\n",
              "       [ 23],\n",
              "       [ 24],\n",
              "       [ 25],\n",
              "       [ 26],\n",
              "       [ 27],\n",
              "       [ 28],\n",
              "       [ 29],\n",
              "       [ 30],\n",
              "       [ 31],\n",
              "       [ 32],\n",
              "       [ 33],\n",
              "       [ 34],\n",
              "       [ 35],\n",
              "       [ 36],\n",
              "       [ 37],\n",
              "       [ 38],\n",
              "       [ 39],\n",
              "       [ 40],\n",
              "       [ 41],\n",
              "       [ 42],\n",
              "       [ 43],\n",
              "       [ 44],\n",
              "       [ 45],\n",
              "       [ 46],\n",
              "       [ 47],\n",
              "       [ 48],\n",
              "       [ 49],\n",
              "       [ 50],\n",
              "       [ 51],\n",
              "       [ 52],\n",
              "       [ 53],\n",
              "       [ 54],\n",
              "       [ 55],\n",
              "       [ 56],\n",
              "       [ 57],\n",
              "       [ 58],\n",
              "       [ 59],\n",
              "       [ 60],\n",
              "       [ 61],\n",
              "       [ 62],\n",
              "       [ 63],\n",
              "       [ 64],\n",
              "       [ 65],\n",
              "       [ 66],\n",
              "       [ 67],\n",
              "       [ 68],\n",
              "       [ 69],\n",
              "       [ 70],\n",
              "       [ 71],\n",
              "       [ 72],\n",
              "       [ 73],\n",
              "       [ 74],\n",
              "       [ 75],\n",
              "       [ 76],\n",
              "       [ 77],\n",
              "       [ 78],\n",
              "       [ 79],\n",
              "       [ 80],\n",
              "       [ 81],\n",
              "       [ 82],\n",
              "       [ 83],\n",
              "       [ 84],\n",
              "       [ 85],\n",
              "       [ 86],\n",
              "       [ 87],\n",
              "       [ 88],\n",
              "       [ 89],\n",
              "       [ 90],\n",
              "       [ 91],\n",
              "       [ 92],\n",
              "       [ 93],\n",
              "       [ 94],\n",
              "       [ 95],\n",
              "       [ 96],\n",
              "       [ 97],\n",
              "       [ 98],\n",
              "       [ 99],\n",
              "       [100],\n",
              "       [101],\n",
              "       [102],\n",
              "       [103],\n",
              "       [104],\n",
              "       [105],\n",
              "       [106],\n",
              "       [107],\n",
              "       [108],\n",
              "       [109],\n",
              "       [110],\n",
              "       [111],\n",
              "       [112],\n",
              "       [113],\n",
              "       [114],\n",
              "       [115],\n",
              "       [116],\n",
              "       [117],\n",
              "       [118],\n",
              "       [119]])"
            ]
          },
          "metadata": {
            "tags": []
          },
          "execution_count": 50
        }
      ]
    },
    {
      "cell_type": "code",
      "metadata": {
        "id": "kqXmgZzGw2FY",
        "colab_type": "code",
        "colab": {
          "base_uri": "https://localhost:8080/",
          "height": 52
        },
        "outputId": "8cb2d97d-e7f2-45c1-f125-9f6dd8441187"
      },
      "source": [
        "x = np.random.rand(3);x\n",
        "y = x*2 + 30\n",
        "\n",
        "lr = 1.0 # learning rate, 학습속도 (하이퍼파라미터)\n",
        "a = np.random.rand()\n",
        "b = np.random.rand()\n",
        "\n",
        "for i in range(50):\n",
        "  y_pred = a*x + b\n",
        "  e = y_pred - y\n",
        "  a = a - lr* (e*x).mean()\n",
        "  b = b - lr* e.mean()\n",
        "  print('a=',a, 'b=',b)\n"
      ],
      "execution_count": 67,
      "outputs": [
        {
          "output_type": "execute_result",
          "data": {
            "text/plain": [
              "(array([0.96223835, 0.33698491, 0.23729816]),\n",
              " array([31.9244767 , 30.67396981, 30.47459631]))"
            ]
          },
          "metadata": {
            "tags": []
          },
          "execution_count": 67
        }
      ]
    }
  ]
}